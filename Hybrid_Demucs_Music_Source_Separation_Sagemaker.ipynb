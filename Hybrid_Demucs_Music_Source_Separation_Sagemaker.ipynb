{
 "cells": [
  {
   "cell_type": "markdown",
   "metadata": {
    "id": "uLghRcAdqaph"
   },
   "source": [
    "# Hybrid Demucs from Colab\n",
    "\n",
    "This supports the Demucs source separation model (https://github.com/facebookresearch/demucs/)\n",
    "This is only for separation with pre-trained models, not training!\n",
    "\n",
    "You can either upload files manually (slow) or link your Google Drive account."
   ]
  },
  {
   "cell_type": "code",
   "execution_count": null,
   "metadata": {
    "colab": {
     "base_uri": "https://localhost:8080/",
     "height": 697
    },
    "id": "WliW0xwSxaRK",
    "outputId": "2dca407e-d3da-414b-ca63-befd51484897"
   },
   "outputs": [],
   "source": [
    "# LP: fix for https://github.com/pytorch/pytorch/issues/67089 \n",
    "%pip install torch==1.10.0+cu113 torchaudio==0.10.0+cu113 -f https://download.pytorch.org/whl/cu113/torch_stable.html"
   ]
  },
  {
   "cell_type": "code",
   "execution_count": null,
   "metadata": {
    "colab": {
     "base_uri": "https://localhost:8080/"
    },
    "id": "79JbZGcAqX3p",
    "outputId": "99b53df0-a624-4d2d-d612-19f4623cb888"
   },
   "outputs": [],
   "source": [
    "!pip install tqdm lameenc pyyaml\n",
    "!pip install julius diffq dora-search\n",
    "!pip install openunmix"
   ]
  },
  {
   "cell_type": "code",
   "execution_count": null,
   "metadata": {
    "colab": {
     "base_uri": "https://localhost:8080/"
    },
    "id": "aO7r5vlCo4_X",
    "outputId": "b6ef5765-9e9e-4c54-bd63-60e03f9523bb"
   },
   "outputs": [],
   "source": [
    "# LP: useful for timing purposes\n",
    "!pip install ipython-autotime\n",
    "%load_ext autotime"
   ]
  },
  {
   "cell_type": "code",
   "execution_count": null,
   "metadata": {
    "colab": {
     "base_uri": "https://localhost:8080/"
    },
    "id": "uTQPJtKBFf2B",
    "outputId": "6f6dd303-ee86-47e5-91f4-809c9715b990"
   },
   "outputs": [],
   "source": [
    "! rm -rf demucs\n",
    "! git clone https://github.com/facebookresearch/demucs.git demucs\n",
    "%cd demucs\n",
    "! python setup.py install"
   ]
  },
  {
   "cell_type": "code",
   "execution_count": null,
   "metadata": {
    "id": "znCvBifRrO-b"
   },
   "outputs": [],
   "source": [
    "# Customize the following options!\n",
    "mp3 = True\n",
    "mp3_rate = 320\n",
    "model = \"mdx_extra\"\n",
    "extensions = [\"mp3\", \"wav\", \"ogg\", \"flac\"]\n",
    "in_path = '/home/ec2-user/SageMaker/audio/in'\n",
    "out_path = '/home/ec2-user/SageMaker/audio/out'"
   ]
  },
  {
   "cell_type": "code",
   "execution_count": null,
   "metadata": {
    "id": "kMKN9BN4r37E"
   },
   "outputs": [],
   "source": [
    "#@title Useful functions, don't forget to execute\n",
    "import io\n",
    "from pathlib import Path\n",
    "import select\n",
    "from shutil import rmtree\n",
    "import subprocess as sp\n",
    "import sys\n",
    "from typing import Dict, Tuple, Optional, IO\n",
    "\n",
    "def find_files(in_path):\n",
    "    out = []\n",
    "    for file in Path(in_path).iterdir():\n",
    "        if file.suffix.lower().lstrip(\".\") in extensions:\n",
    "            out.append(file)\n",
    "    return out\n",
    "\n",
    "def copy_process_streams(process: sp.Popen):\n",
    "    def raw(stream: Optional[IO[bytes]]) -> IO[bytes]:\n",
    "        assert stream is not None\n",
    "        if isinstance(stream, io.BufferedIOBase):\n",
    "            stream = stream.raw\n",
    "        return stream\n",
    "\n",
    "    p_stdout, p_stderr = raw(process.stdout), raw(process.stderr)\n",
    "    stream_by_fd: Dict[int, Tuple[IO[bytes], io.StringIO, IO[str]]] = {\n",
    "        p_stdout.fileno(): (p_stdout, sys.stdout),\n",
    "        p_stderr.fileno(): (p_stderr, sys.stderr),\n",
    "    }\n",
    "    fds = list(stream_by_fd.keys())\n",
    "\n",
    "    while fds:\n",
    "        # `select` syscall will wait until one of the file descriptors has content.\n",
    "        ready, _, _ = select.select(fds, [], [])\n",
    "        for fd in ready:\n",
    "            p_stream, std = stream_by_fd[fd]\n",
    "            raw_buf = p_stream.read(2 ** 16)\n",
    "            if not raw_buf:\n",
    "                fds.remove(fd)\n",
    "                continue\n",
    "            buf = raw_buf.decode()\n",
    "            std.write(buf)\n",
    "            std.flush()\n",
    "\n",
    "def separate(inp=None, outp=None):\n",
    "    inp = inp or in_path\n",
    "    outp = outp or out_path\n",
    "    cmd = [\"python3\", \"-m\", \"demucs.separate\", \"-o\", str(outp), \"-n\", model]\n",
    "    if mp3:\n",
    "        cmd += [\"--mp3\", f\"--mp3-bitrate={mp3_rate}\"]\n",
    "    files = [str(f) for f in find_files(inp)]\n",
    "    if not files:\n",
    "        print(f\"No valid audio files in {in_path}\")\n",
    "        return\n",
    "    print(\"Going to separate the files:\")\n",
    "    print('\\n'.join(files))\n",
    "    print(\"With command: \", \" \".join(cmd))\n",
    "    p = sp.Popen(cmd + files, stdout=sp.PIPE, stderr=sp.PIPE, shell=False)\n",
    "    copy_process_streams(p)\n",
    "    p.wait()\n",
    "    if p.returncode != 0:\n",
    "        print(\"Command failed, something went wrong.\")\n"
   ]
  },
  {
   "cell_type": "code",
   "execution_count": null,
   "metadata": {
    "colab": {
     "base_uri": "https://localhost:8080/"
    },
    "id": "gr9OJvf-tYyt",
    "outputId": "10b8018d-c390-486a-ce27-0e258fc7e2ea"
   },
   "outputs": [],
   "source": [
    "# This can be quite slow, in particular the loading, and saving from GDrive. Please be patient!\n",
    "# This is from google drive! Also, this will separate all the files inside the MyDrive/demucs folder,\n",
    "# so when you are happy with the results, remove the songs from there.\n",
    "separate()"
   ]
  },
  {
   "cell_type": "code",
   "execution_count": null,
   "metadata": {
    "colab": {
     "base_uri": "https://localhost:8080/"
    },
    "id": "cqQ_I5XipKg3",
    "outputId": "f2bad5cb-2cc0-4eb1-fe54-39fe4e054746"
   },
   "outputs": [],
   "source": [
    "# LP: This second command will not download models again!\n",
    "separate()"
   ]
  },
  {
   "cell_type": "code",
   "execution_count": null,
   "metadata": {
    "id": "BK8BRrXdzhvH"
   },
   "outputs": [],
   "source": []
  }
 ],
 "metadata": {
  "accelerator": "GPU",
  "colab": {
   "collapsed_sections": [],
   "name": "Hybrid Demucs Music Source Separation.ipynb",
   "provenance": []
  },
  "kernelspec": {
   "display_name": "conda_python3",
   "language": "python",
   "name": "conda_python3"
  },
  "language_info": {
   "codemirror_mode": {
    "name": "ipython",
    "version": 3
   },
   "file_extension": ".py",
   "mim  ype": "text/x-python",
   "name": "python",
   "nbconvert_exporter": "python",
   "pygments_lexer": "ipython3",
   "version": "3.6.13"
  }
 },
 "nbformat": 4,
 "nbformat_minor": 1
}
