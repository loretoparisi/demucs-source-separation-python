{
  "nbformat": 4,
  "nbformat_minor": 0,
  "metadata": {
    "colab": {
      "name": "Hybrid Demucs Music Source Separation.ipynb",
      "provenance": [],
      "collapsed_sections": []
    },
    "kernelspec": {
      "name": "python3",
      "display_name": "Python 3"
    },
    "language_info": {
      "name": "python"
    },
    "accelerator": "GPU"
  },
  "cells": [
    {
      "cell_type": "markdown",
      "metadata": {
        "id": "uLghRcAdqaph"
      },
      "source": [
        "# Hybrid Demucs from Colab\n",
        "\n",
        "This supports the Demucs source separation model (https://github.com/facebookresearch/demucs/)\n",
        "This is only for separation with pre-trained models, not training!\n",
        "\n",
        "You can either upload files manually (slow) or link your Google Drive account."
      ]
    },
    {
      "cell_type": "code",
      "metadata": {
        "id": "WliW0xwSxaRK",
        "colab": {
          "base_uri": "https://localhost:8080/",
          "height": 697
        },
        "outputId": "2dca407e-d3da-414b-ca63-befd51484897"
      },
      "source": [
        "# LP: fix for https://github.com/pytorch/pytorch/issues/67089 \n",
        "%pip install torch==1.10.0+cu113 torchaudio==0.10.0+cu113 -f https://download.pytorch.org/whl/cu113/torch_stable.html"
      ],
      "execution_count": 19,
      "outputs": [
        {
          "output_type": "stream",
          "name": "stdout",
          "text": [
            "Looking in links: https://download.pytorch.org/whl/cu113/torch_stable.html\n",
            "Collecting torch==1.10.0+cu113\n",
            "  Downloading https://download.pytorch.org/whl/cu113/torch-1.10.0%2Bcu113-cp37-cp37m-linux_x86_64.whl (1821.5 MB)\n",
            "\u001b[K     |██████████████▋                 | 834.1 MB 1.7 MB/s eta 0:09:43tcmalloc: large alloc 1147494400 bytes == 0x55b77b1ee000 @  0x7f2c4e608615 0x55b7426ba4cc 0x55b74279a47a 0x55b7426bd2ed 0x55b7427aee1d 0x55b742730e99 0x55b74272b9ee 0x55b7426bebda 0x55b742730d00 0x55b74272b9ee 0x55b7426bebda 0x55b74272d737 0x55b7427afc66 0x55b74272cdaf 0x55b7427afc66 0x55b74272cdaf 0x55b7427afc66 0x55b74272cdaf 0x55b7426bf039 0x55b742702409 0x55b7426bdc52 0x55b742730c25 0x55b74272b9ee 0x55b7426bebda 0x55b74272d737 0x55b74272b9ee 0x55b7426bebda 0x55b74272c915 0x55b7426beafa 0x55b74272cc0d 0x55b74272b9ee\n",
            "\u001b[K     |██████████████████▌             | 1055.7 MB 1.8 MB/s eta 0:07:08tcmalloc: large alloc 1434370048 bytes == 0x55b7bf844000 @  0x7f2c4e608615 0x55b7426ba4cc 0x55b74279a47a 0x55b7426bd2ed 0x55b7427aee1d 0x55b742730e99 0x55b74272b9ee 0x55b7426bebda 0x55b742730d00 0x55b74272b9ee 0x55b7426bebda 0x55b74272d737 0x55b7427afc66 0x55b74272cdaf 0x55b7427afc66 0x55b74272cdaf 0x55b7427afc66 0x55b74272cdaf 0x55b7426bf039 0x55b742702409 0x55b7426bdc52 0x55b742730c25 0x55b74272b9ee 0x55b7426bebda 0x55b74272d737 0x55b74272b9ee 0x55b7426bebda 0x55b74272c915 0x55b7426beafa 0x55b74272cc0d 0x55b74272b9ee\n",
            "\u001b[K     |███████████████████████▌        | 1336.2 MB 1.9 MB/s eta 0:04:20tcmalloc: large alloc 1792966656 bytes == 0x55b744676000 @  0x7f2c4e608615 0x55b7426ba4cc 0x55b74279a47a 0x55b7426bd2ed 0x55b7427aee1d 0x55b742730e99 0x55b74272b9ee 0x55b7426bebda 0x55b742730d00 0x55b74272b9ee 0x55b7426bebda 0x55b74272d737 0x55b7427afc66 0x55b74272cdaf 0x55b7427afc66 0x55b74272cdaf 0x55b7427afc66 0x55b74272cdaf 0x55b7426bf039 0x55b742702409 0x55b7426bdc52 0x55b742730c25 0x55b74272b9ee 0x55b7426bebda 0x55b74272d737 0x55b74272b9ee 0x55b7426bebda 0x55b74272c915 0x55b7426beafa 0x55b74272cc0d 0x55b74272b9ee\n",
            "\u001b[K     |█████████████████████████████▊  | 1691.1 MB 1.3 MB/s eta 0:01:40tcmalloc: large alloc 2241208320 bytes == 0x55b7af45e000 @  0x7f2c4e608615 0x55b7426ba4cc 0x55b74279a47a 0x55b7426bd2ed 0x55b7427aee1d 0x55b742730e99 0x55b74272b9ee 0x55b7426bebda 0x55b742730d00 0x55b74272b9ee 0x55b7426bebda 0x55b74272d737 0x55b7427afc66 0x55b74272cdaf 0x55b7427afc66 0x55b74272cdaf 0x55b7427afc66 0x55b74272cdaf 0x55b7426bf039 0x55b742702409 0x55b7426bdc52 0x55b742730c25 0x55b74272b9ee 0x55b7426bebda 0x55b74272d737 0x55b74272b9ee 0x55b7426bebda 0x55b74272c915 0x55b7426beafa 0x55b74272cc0d 0x55b74272b9ee\n",
            "\u001b[K     |████████████████████████████████| 1821.5 MB 1.3 MB/s eta 0:00:01tcmalloc: large alloc 1821458432 bytes == 0x55b834dc0000 @  0x7f2c4e6071e7 0x55b7426f0067 0x55b7426ba4cc 0x55b74279a47a 0x55b7426bd2ed 0x55b7427aee1d 0x55b742730e99 0x55b74272b9ee 0x55b7426bebda 0x55b74272cc0d 0x55b74272b9ee 0x55b7426bebda 0x55b74272cc0d 0x55b74272b9ee 0x55b7426bebda 0x55b74272cc0d 0x55b74272b9ee 0x55b7426bebda 0x55b74272cc0d 0x55b74272b9ee 0x55b7426bebda 0x55b74272cc0d 0x55b7426beafa 0x55b74272cc0d 0x55b74272b9ee 0x55b7426bebda 0x55b74272d737 0x55b74272b9ee 0x55b7426bebda 0x55b74272d737 0x55b74272b9ee\n",
            "tcmalloc: large alloc 2276827136 bytes == 0x55b8a16d4000 @  0x7f2c4e608615 0x55b7426ba4cc 0x55b74279a47a 0x55b7426bd2ed 0x55b7427aee1d 0x55b742730e99 0x55b74272b9ee 0x55b7426bebda 0x55b74272cc0d 0x55b74272b9ee 0x55b7426bebda 0x55b74272cc0d 0x55b74272b9ee 0x55b7426bebda 0x55b74272cc0d 0x55b74272b9ee 0x55b7426bebda 0x55b74272cc0d 0x55b74272b9ee 0x55b7426bebda 0x55b74272cc0d 0x55b7426beafa 0x55b74272cc0d 0x55b74272b9ee 0x55b7426bebda 0x55b74272d737 0x55b74272b9ee 0x55b7426bebda 0x55b74272d737 0x55b74272b9ee 0x55b7426bf271\n",
            "\u001b[K     |████████████████████████████████| 1821.5 MB 3.4 kB/s \n",
            "\u001b[?25hCollecting torchvision==0.11.1+cu113\n",
            "  Downloading https://download.pytorch.org/whl/cu113/torchvision-0.11.1%2Bcu113-cp37-cp37m-linux_x86_64.whl (24.6 MB)\n",
            "\u001b[K     |████████████████████████████████| 24.6 MB 9.4 kB/s \n",
            "\u001b[?25hCollecting torchaudio==0.10.0+cu113\n",
            "  Downloading https://download.pytorch.org/whl/cu113/torchaudio-0.10.0%2Bcu113-cp37-cp37m-linux_x86_64.whl (2.9 MB)\n",
            "\u001b[K     |████████████████████████████████| 2.9 MB 3.1 MB/s \n",
            "\u001b[?25hRequirement already satisfied: typing-extensions in /usr/local/lib/python3.7/dist-packages (from torch==1.10.0+cu113) (3.10.0.2)\n",
            "Requirement already satisfied: pillow!=8.3.0,>=5.3.0 in /usr/local/lib/python3.7/dist-packages (from torchvision==0.11.1+cu113) (7.1.2)\n",
            "Requirement already satisfied: numpy in /usr/local/lib/python3.7/dist-packages (from torchvision==0.11.1+cu113) (1.19.5)\n",
            "Installing collected packages: torch, torchvision, torchaudio\n",
            "  Attempting uninstall: torch\n",
            "    Found existing installation: torch 1.10.0+cu111\n",
            "    Uninstalling torch-1.10.0+cu111:\n",
            "      Successfully uninstalled torch-1.10.0+cu111\n",
            "  Attempting uninstall: torchvision\n",
            "    Found existing installation: torchvision 0.11.1+cu111\n",
            "    Uninstalling torchvision-0.11.1+cu111:\n",
            "      Successfully uninstalled torchvision-0.11.1+cu111\n",
            "  Attempting uninstall: torchaudio\n",
            "    Found existing installation: torchaudio 0.10.0\n",
            "    Uninstalling torchaudio-0.10.0:\n",
            "      Successfully uninstalled torchaudio-0.10.0\n",
            "Successfully installed torch-1.10.0+cu113 torchaudio-0.10.0+cu113 torchvision-0.11.1+cu113\n"
          ]
        },
        {
          "output_type": "display_data",
          "data": {
            "application/vnd.colab-display-data+json": {
              "pip_warning": {
                "packages": [
                  "torch"
                ]
              }
            }
          },
          "metadata": {}
        }
      ]
    },
    {
      "cell_type": "code",
      "metadata": {
        "id": "79JbZGcAqX3p",
        "colab": {
          "base_uri": "https://localhost:8080/"
        },
        "outputId": "99b53df0-a624-4d2d-d612-19f4623cb888"
      },
      "source": [
        "!pip install tqdm lameenc pyyaml\n",
        "!pip install julius diffq dora-search\n",
        "!pip install openunmix"
      ],
      "execution_count": 1,
      "outputs": [
        {
          "output_type": "stream",
          "name": "stdout",
          "text": [
            "Requirement already satisfied: tqdm in /usr/local/lib/python3.7/dist-packages (4.62.3)\n",
            "Requirement already satisfied: lameenc in /usr/local/lib/python3.7/dist-packages (1.3.1)\n",
            "Requirement already satisfied: pyyaml in /usr/local/lib/python3.7/dist-packages (6.0)\n",
            "Requirement already satisfied: julius in /usr/local/lib/python3.7/dist-packages (0.2.6)\n",
            "Requirement already satisfied: diffq in /usr/local/lib/python3.7/dist-packages (0.2.1)\n",
            "Requirement already satisfied: dora-search in /usr/local/lib/python3.7/dist-packages (0.1.7)\n",
            "Requirement already satisfied: torch>=1.7.0 in /usr/local/lib/python3.7/dist-packages (from julius) (1.10.0+cu113)\n",
            "Requirement already satisfied: typing-extensions in /usr/local/lib/python3.7/dist-packages (from torch>=1.7.0->julius) (3.10.0.2)\n",
            "Requirement already satisfied: numpy in /usr/local/lib/python3.7/dist-packages (from diffq) (1.19.5)\n",
            "Requirement already satisfied: Cython in /usr/local/lib/python3.7/dist-packages (from diffq) (0.29.24)\n",
            "Requirement already satisfied: treetable in /usr/local/lib/python3.7/dist-packages (from dora-search) (0.2.5)\n",
            "Requirement already satisfied: retrying in /usr/local/lib/python3.7/dist-packages (from dora-search) (1.3.3)\n",
            "Requirement already satisfied: omegaconf in /usr/local/lib/python3.7/dist-packages (from dora-search) (2.1.1)\n",
            "Requirement already satisfied: submitit in /usr/local/lib/python3.7/dist-packages (from dora-search) (1.4.0)\n",
            "Requirement already satisfied: antlr4-python3-runtime==4.8 in /usr/local/lib/python3.7/dist-packages (from omegaconf->dora-search) (4.8)\n",
            "Requirement already satisfied: PyYAML>=5.1.0 in /usr/local/lib/python3.7/dist-packages (from omegaconf->dora-search) (6.0)\n",
            "Requirement already satisfied: six>=1.7.0 in /usr/local/lib/python3.7/dist-packages (from retrying->dora-search) (1.15.0)\n",
            "Requirement already satisfied: cloudpickle>=1.2.1 in /usr/local/lib/python3.7/dist-packages (from submitit->dora-search) (1.3.0)\n",
            "Requirement already satisfied: openunmix in /usr/local/lib/python3.7/dist-packages (1.2.1)\n",
            "Requirement already satisfied: torchaudio>=0.9.0 in /usr/local/lib/python3.7/dist-packages (from openunmix) (0.10.0+cu113)\n",
            "Requirement already satisfied: torch>=1.9.0 in /usr/local/lib/python3.7/dist-packages (from openunmix) (1.10.0+cu113)\n",
            "Requirement already satisfied: numpy in /usr/local/lib/python3.7/dist-packages (from openunmix) (1.19.5)\n",
            "Requirement already satisfied: tqdm in /usr/local/lib/python3.7/dist-packages (from openunmix) (4.62.3)\n",
            "Requirement already satisfied: typing-extensions in /usr/local/lib/python3.7/dist-packages (from torch>=1.9.0->openunmix) (3.10.0.2)\n"
          ]
        }
      ]
    },
    {
      "cell_type": "code",
      "metadata": {
        "colab": {
          "base_uri": "https://localhost:8080/"
        },
        "id": "aO7r5vlCo4_X",
        "outputId": "b6ef5765-9e9e-4c54-bd63-60e03f9523bb"
      },
      "source": [
        "# LP: useful for timing purposes\n",
        "!pip install ipython-autotime\n",
        "%load_ext autotime"
      ],
      "execution_count": 7,
      "outputs": [
        {
          "output_type": "stream",
          "name": "stdout",
          "text": [
            "Requirement already satisfied: ipython-autotime in /usr/local/lib/python3.7/dist-packages (0.3.1)\n",
            "Requirement already satisfied: ipython in /usr/local/lib/python3.7/dist-packages (from ipython-autotime) (5.5.0)\n",
            "Requirement already satisfied: decorator in /usr/local/lib/python3.7/dist-packages (from ipython->ipython-autotime) (4.4.2)\n",
            "Requirement already satisfied: simplegeneric>0.8 in /usr/local/lib/python3.7/dist-packages (from ipython->ipython-autotime) (0.8.1)\n",
            "Requirement already satisfied: pygments in /usr/local/lib/python3.7/dist-packages (from ipython->ipython-autotime) (2.6.1)\n",
            "Requirement already satisfied: pickleshare in /usr/local/lib/python3.7/dist-packages (from ipython->ipython-autotime) (0.7.5)\n",
            "Requirement already satisfied: pexpect in /usr/local/lib/python3.7/dist-packages (from ipython->ipython-autotime) (4.8.0)\n",
            "Requirement already satisfied: prompt-toolkit<2.0.0,>=1.0.4 in /usr/local/lib/python3.7/dist-packages (from ipython->ipython-autotime) (1.0.18)\n",
            "Requirement already satisfied: traitlets>=4.2 in /usr/local/lib/python3.7/dist-packages (from ipython->ipython-autotime) (5.1.1)\n",
            "Requirement already satisfied: setuptools>=18.5 in /usr/local/lib/python3.7/dist-packages (from ipython->ipython-autotime) (57.4.0)\n",
            "Requirement already satisfied: wcwidth in /usr/local/lib/python3.7/dist-packages (from prompt-toolkit<2.0.0,>=1.0.4->ipython->ipython-autotime) (0.2.5)\n",
            "Requirement already satisfied: six>=1.9.0 in /usr/local/lib/python3.7/dist-packages (from prompt-toolkit<2.0.0,>=1.0.4->ipython->ipython-autotime) (1.15.0)\n",
            "Requirement already satisfied: ptyprocess>=0.5 in /usr/local/lib/python3.7/dist-packages (from pexpect->ipython->ipython-autotime) (0.7.0)\n",
            "time: 129 µs (started: 2021-11-15 12:48:39 +00:00)\n"
          ]
        }
      ]
    },
    {
      "cell_type": "code",
      "metadata": {
        "colab": {
          "base_uri": "https://localhost:8080/"
        },
        "id": "uTQPJtKBFf2B",
        "outputId": "6f6dd303-ee86-47e5-91f4-809c9715b990"
      },
      "source": [
        "! rm -rf demucs\n",
        "! git clone https://github.com/facebookresearch/demucs.git demucs\n",
        "%cd demucs\n",
        "! python setup.py install"
      ],
      "execution_count": 2,
      "outputs": [
        {
          "output_type": "stream",
          "name": "stdout",
          "text": [
            "Cloning into 'demucs'...\n",
            "remote: Enumerating objects: 4946, done.\u001b[K\n",
            "remote: Counting objects: 100% (2089/2089), done.\u001b[K\n",
            "remote: Compressing objects: 100% (1788/1788), done.\u001b[K\n",
            "remote: Total 4946 (delta 315), reused 1961 (delta 242), pack-reused 2857\u001b[K\n",
            "Receiving objects: 100% (4946/4946), 76.14 MiB | 22.49 MiB/s, done.\n",
            "Resolving deltas: 100% (529/529), done.\n",
            "/content/demucs\n",
            "running install\n",
            "running bdist_egg\n",
            "running egg_info\n",
            "creating demucs.egg-info\n",
            "writing demucs.egg-info/PKG-INFO\n",
            "writing dependency_links to demucs.egg-info/dependency_links.txt\n",
            "writing entry points to demucs.egg-info/entry_points.txt\n",
            "writing requirements to demucs.egg-info/requires.txt\n",
            "writing top-level names to demucs.egg-info/top_level.txt\n",
            "writing manifest file 'demucs.egg-info/SOURCES.txt'\n",
            "reading manifest template 'MANIFEST.in'\n",
            "warning: no previously-included files matching '*' found under directory 'env'\n",
            "adding license file 'LICENSE'\n",
            "writing manifest file 'demucs.egg-info/SOURCES.txt'\n",
            "installing library code to build/bdist.linux-x86_64/egg\n",
            "running install_lib\n",
            "running build_py\n",
            "creating build\n",
            "creating build/lib\n",
            "creating build/lib/demucs\n",
            "copying demucs/spec.py -> build/lib/demucs\n",
            "copying demucs/utils.py -> build/lib/demucs\n",
            "copying demucs/svd.py -> build/lib/demucs\n",
            "copying demucs/audio.py -> build/lib/demucs\n",
            "copying demucs/solver.py -> build/lib/demucs\n",
            "copying demucs/pretrained.py -> build/lib/demucs\n",
            "copying demucs/repitch.py -> build/lib/demucs\n",
            "copying demucs/hdemucs.py -> build/lib/demucs\n",
            "copying demucs/states.py -> build/lib/demucs\n",
            "copying demucs/wdemucs.py -> build/lib/demucs\n",
            "copying demucs/__init__.py -> build/lib/demucs\n",
            "copying demucs/apply.py -> build/lib/demucs\n",
            "copying demucs/train.py -> build/lib/demucs\n",
            "copying demucs/ema.py -> build/lib/demucs\n",
            "copying demucs/augment.py -> build/lib/demucs\n",
            "copying demucs/distrib.py -> build/lib/demucs\n",
            "copying demucs/evaluate.py -> build/lib/demucs\n",
            "copying demucs/__main__.py -> build/lib/demucs\n",
            "copying demucs/wav.py -> build/lib/demucs\n",
            "copying demucs/separate.py -> build/lib/demucs\n",
            "copying demucs/demucs.py -> build/lib/demucs\n",
            "copying demucs/repo.py -> build/lib/demucs\n",
            "copying demucs/py.typed -> build/lib/demucs\n",
            "creating build/lib/demucs/grids\n",
            "copying demucs/grids/__init__.py -> build/lib/demucs/grids\n",
            "copying demucs/grids/_explorers.py -> build/lib/demucs/grids\n",
            "copying demucs/grids/mdx.py -> build/lib/demucs/grids\n",
            "copying demucs/grids/mdx_extra.py -> build/lib/demucs/grids\n",
            "copying demucs/grids/mdx_refine.py -> build/lib/demucs/grids\n",
            "creating build/lib/demucs/remote\n",
            "copying demucs/remote/files.txt -> build/lib/demucs/remote\n",
            "copying demucs/remote/mdx.yaml -> build/lib/demucs/remote\n",
            "copying demucs/remote/mdx_extra.yaml -> build/lib/demucs/remote\n",
            "copying demucs/remote/mdx_extra_q.yaml -> build/lib/demucs/remote\n",
            "copying demucs/remote/mdx_q.yaml -> build/lib/demucs/remote\n",
            "creating build/bdist.linux-x86_64\n",
            "creating build/bdist.linux-x86_64/egg\n",
            "creating build/bdist.linux-x86_64/egg/demucs\n",
            "copying build/lib/demucs/spec.py -> build/bdist.linux-x86_64/egg/demucs\n",
            "copying build/lib/demucs/utils.py -> build/bdist.linux-x86_64/egg/demucs\n",
            "copying build/lib/demucs/svd.py -> build/bdist.linux-x86_64/egg/demucs\n",
            "copying build/lib/demucs/py.typed -> build/bdist.linux-x86_64/egg/demucs\n",
            "copying build/lib/demucs/audio.py -> build/bdist.linux-x86_64/egg/demucs\n",
            "copying build/lib/demucs/solver.py -> build/bdist.linux-x86_64/egg/demucs\n",
            "copying build/lib/demucs/pretrained.py -> build/bdist.linux-x86_64/egg/demucs\n",
            "copying build/lib/demucs/repitch.py -> build/bdist.linux-x86_64/egg/demucs\n",
            "copying build/lib/demucs/hdemucs.py -> build/bdist.linux-x86_64/egg/demucs\n",
            "copying build/lib/demucs/states.py -> build/bdist.linux-x86_64/egg/demucs\n",
            "copying build/lib/demucs/wdemucs.py -> build/bdist.linux-x86_64/egg/demucs\n",
            "copying build/lib/demucs/__init__.py -> build/bdist.linux-x86_64/egg/demucs\n",
            "copying build/lib/demucs/apply.py -> build/bdist.linux-x86_64/egg/demucs\n",
            "copying build/lib/demucs/train.py -> build/bdist.linux-x86_64/egg/demucs\n",
            "copying build/lib/demucs/ema.py -> build/bdist.linux-x86_64/egg/demucs\n",
            "copying build/lib/demucs/augment.py -> build/bdist.linux-x86_64/egg/demucs\n",
            "copying build/lib/demucs/distrib.py -> build/bdist.linux-x86_64/egg/demucs\n",
            "copying build/lib/demucs/evaluate.py -> build/bdist.linux-x86_64/egg/demucs\n",
            "creating build/bdist.linux-x86_64/egg/demucs/grids\n",
            "copying build/lib/demucs/grids/__init__.py -> build/bdist.linux-x86_64/egg/demucs/grids\n",
            "copying build/lib/demucs/grids/mdx_refine.py -> build/bdist.linux-x86_64/egg/demucs/grids\n",
            "copying build/lib/demucs/grids/mdx_extra.py -> build/bdist.linux-x86_64/egg/demucs/grids\n",
            "copying build/lib/demucs/grids/mdx.py -> build/bdist.linux-x86_64/egg/demucs/grids\n",
            "copying build/lib/demucs/grids/_explorers.py -> build/bdist.linux-x86_64/egg/demucs/grids\n",
            "copying build/lib/demucs/__main__.py -> build/bdist.linux-x86_64/egg/demucs\n",
            "copying build/lib/demucs/wav.py -> build/bdist.linux-x86_64/egg/demucs\n",
            "copying build/lib/demucs/separate.py -> build/bdist.linux-x86_64/egg/demucs\n",
            "copying build/lib/demucs/demucs.py -> build/bdist.linux-x86_64/egg/demucs\n",
            "creating build/bdist.linux-x86_64/egg/demucs/remote\n",
            "copying build/lib/demucs/remote/mdx.yaml -> build/bdist.linux-x86_64/egg/demucs/remote\n",
            "copying build/lib/demucs/remote/mdx_q.yaml -> build/bdist.linux-x86_64/egg/demucs/remote\n",
            "copying build/lib/demucs/remote/mdx_extra_q.yaml -> build/bdist.linux-x86_64/egg/demucs/remote\n",
            "copying build/lib/demucs/remote/mdx_extra.yaml -> build/bdist.linux-x86_64/egg/demucs/remote\n",
            "copying build/lib/demucs/remote/files.txt -> build/bdist.linux-x86_64/egg/demucs/remote\n",
            "copying build/lib/demucs/repo.py -> build/bdist.linux-x86_64/egg/demucs\n",
            "byte-compiling build/bdist.linux-x86_64/egg/demucs/spec.py to spec.cpython-37.pyc\n",
            "byte-compiling build/bdist.linux-x86_64/egg/demucs/utils.py to utils.cpython-37.pyc\n",
            "byte-compiling build/bdist.linux-x86_64/egg/demucs/svd.py to svd.cpython-37.pyc\n",
            "byte-compiling build/bdist.linux-x86_64/egg/demucs/audio.py to audio.cpython-37.pyc\n",
            "byte-compiling build/bdist.linux-x86_64/egg/demucs/solver.py to solver.cpython-37.pyc\n",
            "byte-compiling build/bdist.linux-x86_64/egg/demucs/pretrained.py to pretrained.cpython-37.pyc\n",
            "byte-compiling build/bdist.linux-x86_64/egg/demucs/repitch.py to repitch.cpython-37.pyc\n",
            "byte-compiling build/bdist.linux-x86_64/egg/demucs/hdemucs.py to hdemucs.cpython-37.pyc\n",
            "byte-compiling build/bdist.linux-x86_64/egg/demucs/states.py to states.cpython-37.pyc\n",
            "byte-compiling build/bdist.linux-x86_64/egg/demucs/wdemucs.py to wdemucs.cpython-37.pyc\n",
            "byte-compiling build/bdist.linux-x86_64/egg/demucs/__init__.py to __init__.cpython-37.pyc\n",
            "byte-compiling build/bdist.linux-x86_64/egg/demucs/apply.py to apply.cpython-37.pyc\n",
            "byte-compiling build/bdist.linux-x86_64/egg/demucs/train.py to train.cpython-37.pyc\n",
            "byte-compiling build/bdist.linux-x86_64/egg/demucs/ema.py to ema.cpython-37.pyc\n",
            "byte-compiling build/bdist.linux-x86_64/egg/demucs/augment.py to augment.cpython-37.pyc\n",
            "byte-compiling build/bdist.linux-x86_64/egg/demucs/distrib.py to distrib.cpython-37.pyc\n",
            "byte-compiling build/bdist.linux-x86_64/egg/demucs/evaluate.py to evaluate.cpython-37.pyc\n",
            "byte-compiling build/bdist.linux-x86_64/egg/demucs/grids/__init__.py to __init__.cpython-37.pyc\n",
            "byte-compiling build/bdist.linux-x86_64/egg/demucs/grids/mdx_refine.py to mdx_refine.cpython-37.pyc\n",
            "byte-compiling build/bdist.linux-x86_64/egg/demucs/grids/mdx_extra.py to mdx_extra.cpython-37.pyc\n",
            "byte-compiling build/bdist.linux-x86_64/egg/demucs/grids/mdx.py to mdx.cpython-37.pyc\n",
            "byte-compiling build/bdist.linux-x86_64/egg/demucs/grids/_explorers.py to _explorers.cpython-37.pyc\n",
            "byte-compiling build/bdist.linux-x86_64/egg/demucs/__main__.py to __main__.cpython-37.pyc\n",
            "byte-compiling build/bdist.linux-x86_64/egg/demucs/wav.py to wav.cpython-37.pyc\n",
            "byte-compiling build/bdist.linux-x86_64/egg/demucs/separate.py to separate.cpython-37.pyc\n",
            "byte-compiling build/bdist.linux-x86_64/egg/demucs/demucs.py to demucs.cpython-37.pyc\n",
            "byte-compiling build/bdist.linux-x86_64/egg/demucs/repo.py to repo.cpython-37.pyc\n",
            "creating build/bdist.linux-x86_64/egg/EGG-INFO\n",
            "copying demucs.egg-info/PKG-INFO -> build/bdist.linux-x86_64/egg/EGG-INFO\n",
            "copying demucs.egg-info/SOURCES.txt -> build/bdist.linux-x86_64/egg/EGG-INFO\n",
            "copying demucs.egg-info/dependency_links.txt -> build/bdist.linux-x86_64/egg/EGG-INFO\n",
            "copying demucs.egg-info/entry_points.txt -> build/bdist.linux-x86_64/egg/EGG-INFO\n",
            "copying demucs.egg-info/requires.txt -> build/bdist.linux-x86_64/egg/EGG-INFO\n",
            "copying demucs.egg-info/top_level.txt -> build/bdist.linux-x86_64/egg/EGG-INFO\n",
            "zip_safe flag not set; analyzing archive contents...\n",
            "demucs.__pycache__.pretrained.cpython-37: module references __file__\n",
            "demucs.__pycache__.train.cpython-37: module references __file__\n",
            "demucs.__pycache__.wav.cpython-37: module references __path__\n",
            "creating dist\n",
            "creating 'dist/demucs-3.0.1-py3.7.egg' and adding 'build/bdist.linux-x86_64/egg' to it\n",
            "removing 'build/bdist.linux-x86_64/egg' (and everything under it)\n",
            "Processing demucs-3.0.1-py3.7.egg\n",
            "removing '/usr/local/lib/python3.7/dist-packages/demucs-3.0.1-py3.7.egg' (and everything under it)\n",
            "creating /usr/local/lib/python3.7/dist-packages/demucs-3.0.1-py3.7.egg\n",
            "Extracting demucs-3.0.1-py3.7.egg to /usr/local/lib/python3.7/dist-packages\n",
            "demucs 3.0.1 is already the active version in easy-install.pth\n",
            "Installing demucs script to /usr/local/bin\n",
            "\n",
            "Installed /usr/local/lib/python3.7/dist-packages/demucs-3.0.1-py3.7.egg\n",
            "Processing dependencies for demucs==3.0.1\n",
            "Searching for tqdm==4.62.3\n",
            "Best match: tqdm 4.62.3\n",
            "Adding tqdm 4.62.3 to easy-install.pth file\n",
            "Installing tqdm script to /usr/local/bin\n",
            "\n",
            "Using /usr/local/lib/python3.7/dist-packages\n",
            "Searching for torchaudio==0.10.0+cu113\n",
            "Best match: torchaudio 0.10.0+cu113\n",
            "Adding torchaudio 0.10.0+cu113 to easy-install.pth file\n",
            "\n",
            "Using /usr/local/lib/python3.7/dist-packages\n",
            "Searching for torch==1.10.0+cu113\n",
            "Best match: torch 1.10.0+cu113\n",
            "Adding torch 1.10.0+cu113 to easy-install.pth file\n",
            "Installing convert-caffe2-to-onnx script to /usr/local/bin\n",
            "Installing convert-onnx-to-caffe2 script to /usr/local/bin\n",
            "Installing torchrun script to /usr/local/bin\n",
            "\n",
            "Using /usr/local/lib/python3.7/dist-packages\n",
            "Searching for PyYAML==6.0\n",
            "Best match: PyYAML 6.0\n",
            "Adding PyYAML 6.0 to easy-install.pth file\n",
            "\n",
            "Using /usr/local/lib/python3.7/dist-packages\n",
            "Searching for openunmix==1.2.1\n",
            "Best match: openunmix 1.2.1\n",
            "Adding openunmix 1.2.1 to easy-install.pth file\n",
            "Installing umx script to /usr/local/bin\n",
            "\n",
            "Using /usr/local/lib/python3.7/dist-packages\n",
            "Searching for lameenc==1.3.1\n",
            "Best match: lameenc 1.3.1\n",
            "Adding lameenc 1.3.1 to easy-install.pth file\n",
            "\n",
            "Using /usr/local/lib/python3.7/dist-packages\n",
            "Searching for julius==0.2.6\n",
            "Best match: julius 0.2.6\n",
            "Adding julius 0.2.6 to easy-install.pth file\n",
            "\n",
            "Using /usr/local/lib/python3.7/dist-packages\n",
            "Searching for diffq==0.2.1\n",
            "Best match: diffq 0.2.1\n",
            "Adding diffq 0.2.1 to easy-install.pth file\n",
            "\n",
            "Using /usr/local/lib/python3.7/dist-packages\n",
            "Searching for dora-search==0.1.7\n",
            "Best match: dora-search 0.1.7\n",
            "Adding dora-search 0.1.7 to easy-install.pth file\n",
            "Installing dora script to /usr/local/bin\n",
            "\n",
            "Using /usr/local/lib/python3.7/dist-packages\n",
            "Searching for typing-extensions==3.10.0.2\n",
            "Best match: typing-extensions 3.10.0.2\n",
            "Adding typing-extensions 3.10.0.2 to easy-install.pth file\n",
            "\n",
            "Using /usr/local/lib/python3.7/dist-packages\n",
            "Searching for numpy==1.19.5\n",
            "Best match: numpy 1.19.5\n",
            "Adding numpy 1.19.5 to easy-install.pth file\n",
            "Installing f2py script to /usr/local/bin\n",
            "Installing f2py3 script to /usr/local/bin\n",
            "Installing f2py3.7 script to /usr/local/bin\n",
            "\n",
            "Using /usr/local/lib/python3.7/dist-packages\n",
            "Searching for Cython==0.29.24\n",
            "Best match: Cython 0.29.24\n",
            "Adding Cython 0.29.24 to easy-install.pth file\n",
            "Installing cygdb script to /usr/local/bin\n",
            "Installing cython script to /usr/local/bin\n",
            "Installing cythonize script to /usr/local/bin\n",
            "\n",
            "Using /usr/local/lib/python3.7/dist-packages\n",
            "Searching for omegaconf==2.1.1\n",
            "Best match: omegaconf 2.1.1\n",
            "Adding omegaconf 2.1.1 to easy-install.pth file\n",
            "\n",
            "Using /usr/local/lib/python3.7/dist-packages\n",
            "Searching for submitit==1.4.0\n",
            "Best match: submitit 1.4.0\n",
            "Adding submitit 1.4.0 to easy-install.pth file\n",
            "\n",
            "Using /usr/local/lib/python3.7/dist-packages\n",
            "Searching for treetable==0.2.5\n",
            "Best match: treetable 0.2.5\n",
            "Adding treetable 0.2.5 to easy-install.pth file\n",
            "\n",
            "Using /usr/local/lib/python3.7/dist-packages\n",
            "Searching for retrying==1.3.3\n",
            "Best match: retrying 1.3.3\n",
            "Adding retrying 1.3.3 to easy-install.pth file\n",
            "\n",
            "Using /usr/local/lib/python3.7/dist-packages\n",
            "Searching for antlr4-python3-runtime==4.8\n",
            "Best match: antlr4-python3-runtime 4.8\n",
            "Adding antlr4-python3-runtime 4.8 to easy-install.pth file\n",
            "\n",
            "Using /usr/local/lib/python3.7/dist-packages\n",
            "Searching for cloudpickle==1.3.0\n",
            "Best match: cloudpickle 1.3.0\n",
            "Adding cloudpickle 1.3.0 to easy-install.pth file\n",
            "\n",
            "Using /usr/local/lib/python3.7/dist-packages\n",
            "Searching for six==1.15.0\n",
            "Best match: six 1.15.0\n",
            "Adding six 1.15.0 to easy-install.pth file\n",
            "\n",
            "Using /usr/local/lib/python3.7/dist-packages\n",
            "Finished processing dependencies for demucs==3.0.1\n"
          ]
        }
      ]
    },
    {
      "cell_type": "code",
      "metadata": {
        "id": "a-2p6OoOrOZK"
      },
      "source": [
        "# Please BE VERY CAREFUL, this will link your entire drive.\n",
        "# So don't edit code, except the one that says 'Customize the following options',\n",
        "# or you might mess up your files.\n",
        "# IF YOU DO NO WANT TO LINK DRIVE, please see below for an alternative!\n",
        "from google.colab import drive\n",
        "drive.mount('/gdrive')"
      ],
      "execution_count": null,
      "outputs": []
    },
    {
      "cell_type": "code",
      "metadata": {
        "id": "znCvBifRrO-b"
      },
      "source": [
        "# Customize the following options!\n",
        "mp3 = True\n",
        "mp3_rate = 320\n",
        "model = \"mdx_extra\"\n",
        "extensions = [\"mp3\", \"wav\", \"ogg\", \"flac\"]\n",
        "in_path = '/gdrive/MyDrive/demucs/in'\n",
        "out_path = '/gdrive/MyDrive/demucs/out/'"
      ],
      "execution_count": 4,
      "outputs": []
    },
    {
      "cell_type": "code",
      "metadata": {
        "id": "kMKN9BN4r37E"
      },
      "source": [
        "#@title Useful functions, don't forget to execute\n",
        "import io\n",
        "from pathlib import Path\n",
        "import select\n",
        "from shutil import rmtree\n",
        "import subprocess as sp\n",
        "import sys\n",
        "from typing import Dict, Tuple, Optional, IO\n",
        "\n",
        "from google.colab import files\n",
        "\n",
        "def find_files(in_path):\n",
        "    out = []\n",
        "    for file in Path(in_path).iterdir():\n",
        "        if file.suffix.lower().lstrip(\".\") in extensions:\n",
        "            out.append(file)\n",
        "    return out\n",
        "\n",
        "def copy_process_streams(process: sp.Popen):\n",
        "    def raw(stream: Optional[IO[bytes]]) -> IO[bytes]:\n",
        "        assert stream is not None\n",
        "        if isinstance(stream, io.BufferedIOBase):\n",
        "            stream = stream.raw\n",
        "        return stream\n",
        "\n",
        "    p_stdout, p_stderr = raw(process.stdout), raw(process.stderr)\n",
        "    stream_by_fd: Dict[int, Tuple[IO[bytes], io.StringIO, IO[str]]] = {\n",
        "        p_stdout.fileno(): (p_stdout, sys.stdout),\n",
        "        p_stderr.fileno(): (p_stderr, sys.stderr),\n",
        "    }\n",
        "    fds = list(stream_by_fd.keys())\n",
        "\n",
        "    while fds:\n",
        "        # `select` syscall will wait until one of the file descriptors has content.\n",
        "        ready, _, _ = select.select(fds, [], [])\n",
        "        for fd in ready:\n",
        "            p_stream, std = stream_by_fd[fd]\n",
        "            raw_buf = p_stream.read(2 ** 16)\n",
        "            if not raw_buf:\n",
        "                fds.remove(fd)\n",
        "                continue\n",
        "            buf = raw_buf.decode()\n",
        "            std.write(buf)\n",
        "            std.flush()\n",
        "\n",
        "def separate(inp=None, outp=None):\n",
        "    inp = inp or in_path\n",
        "    outp = outp or out_path\n",
        "    cmd = [\"python3\", \"-m\", \"demucs.separate\", \"-o\", str(outp), \"-n\", model]\n",
        "    if mp3:\n",
        "        cmd += [\"--mp3\", f\"--mp3-bitrate={mp3_rate}\"]\n",
        "    files = [str(f) for f in find_files(inp)]\n",
        "    if not files:\n",
        "        print(f\"No valid audio files in {in_path}\")\n",
        "        return\n",
        "    print(\"Going to separate the files:\")\n",
        "    print('\\n'.join(files))\n",
        "    print(\"With command: \", \" \".join(cmd))\n",
        "    p = sp.Popen(cmd + files, stdout=sp.PIPE, stderr=sp.PIPE)\n",
        "    copy_process_streams(p)\n",
        "    p.wait()\n",
        "    if p.returncode != 0:\n",
        "        print(\"Command failed, something went wrong.\")\n",
        "\n",
        "\n",
        "def from_upload():\n",
        "    out_path = Path('separated')\n",
        "    in_path = Path('tmp_in')\n",
        "    \n",
        "    if in_path.exists():\n",
        "        rmtree(in_path)\n",
        "    in_path.mkdir()\n",
        "    \n",
        "    if out_path.exists():\n",
        "        rmtree(out_path)\n",
        "    out_path.mkdir()\n",
        "    \n",
        "    uploaded = files.upload()\n",
        "    for name, content in uploaded.items():\n",
        "        (in_path / name).write_bytes(content)\n",
        "    separate(in_path, out_path)\n"
      ],
      "execution_count": 3,
      "outputs": []
    },
    {
      "cell_type": "code",
      "metadata": {
        "id": "gr9OJvf-tYyt",
        "colab": {
          "base_uri": "https://localhost:8080/"
        },
        "outputId": "10b8018d-c390-486a-ce27-0e258fc7e2ea"
      },
      "source": [
        "# This can be quite slow, in particular the loading, and saving from GDrive. Please be patient!\n",
        "# This is from google drive! Also, this will separate all the files inside the MyDrive/demucs folder,\n",
        "# so when you are happy with the results, remove the songs from there.\n",
        "separate()"
      ],
      "execution_count": 5,
      "outputs": [
        {
          "output_type": "stream",
          "name": "stdout",
          "text": [
            "Going to separate the files:\n",
            "/gdrive/MyDrive/demucs/in/82929740.mp3\n",
            "With command:  python3 -m demucs.separate -o /gdrive/MyDrive/demucs/out/ -n mdx_extra --mp3 --mp3-bitrate=320\n"
          ]
        },
        {
          "output_type": "stream",
          "name": "stderr",
          "text": [
            "Downloading: \"https://dl.fbaipublicfiles.com/demucs/mdx_final/e51eebcc-c1b80bdd.th\" to /root/.cache/torch/hub/checkpoints/e51eebcc-c1b80bdd.th\n",
            "100%|██████████| 160M/160M [00:16<00:00, 10.1MB/s]\n",
            "Downloading: \"https://dl.fbaipublicfiles.com/demucs/mdx_final/a1d90b5c-ae9d2452.th\" to /root/.cache/torch/hub/checkpoints/a1d90b5c-ae9d2452.th\n",
            "100%|██████████| 160M/160M [00:16<00:00, 10.0MB/s]\n",
            "Downloading: \"https://dl.fbaipublicfiles.com/demucs/mdx_final/5d2d6c55-db83574e.th\" to /root/.cache/torch/hub/checkpoints/5d2d6c55-db83574e.th\n",
            "100%|██████████| 160M/160M [00:15<00:00, 10.6MB/s]\n",
            "Downloading: \"https://dl.fbaipublicfiles.com/demucs/mdx_final/cfa93e08-61801ae1.th\" to /root/.cache/torch/hub/checkpoints/cfa93e08-61801ae1.th\n",
            "100%|██████████| 160M/160M [00:17<00:00, 9.72MB/s]"
          ]
        },
        {
          "output_type": "stream",
          "name": "stdout",
          "text": [
            "Selected model is a bag of 4 models. You will see that many progress bars per track.\n",
            "Separated tracks will be stored in /gdrive/MyDrive/demucs/out/mdx_extra\n",
            "Separating track /gdrive/MyDrive/demucs/in/82929740.mp3\n"
          ]
        },
        {
          "output_type": "stream",
          "name": "stderr",
          "text": [
            "\n",
            "100%|████████████████████████████████████████████████████████████████████████| 198.0/198.0 [00:10<00:00, 18.42seconds/s]\n",
            "100%|████████████████████████████████████████████████████████████████████████| 198.0/198.0 [00:10<00:00, 18.21seconds/s]\n",
            "100%|████████████████████████████████████████████████████████████████████████| 198.0/198.0 [00:10<00:00, 18.26seconds/s]\n",
            "100%|████████████████████████████████████████████████████████████████████████| 198.0/198.0 [00:10<00:00, 18.98seconds/s]\n"
          ]
        }
      ]
    },
    {
      "cell_type": "code",
      "metadata": {
        "colab": {
          "base_uri": "https://localhost:8080/"
        },
        "id": "cqQ_I5XipKg3",
        "outputId": "f2bad5cb-2cc0-4eb1-fe54-39fe4e054746"
      },
      "source": [
        "# LP: This second command will not download models again!\n",
        "separate()"
      ],
      "execution_count": 8,
      "outputs": [
        {
          "output_type": "stream",
          "name": "stdout",
          "text": [
            "Going to separate the files:\n",
            "/gdrive/MyDrive/demucs/in/82929740.mp3\n",
            "With command:  python3 -m demucs.separate -o /gdrive/MyDrive/demucs/out/ -n mdx_extra --mp3 --mp3-bitrate=320\n",
            "Selected model is a bag of 4 models. You will see that many progress bars per track.\n",
            "Separated tracks will be stored in /gdrive/MyDrive/demucs/out/mdx_extra\n",
            "Separating track /gdrive/MyDrive/demucs/in/82929740.mp3\n"
          ]
        },
        {
          "output_type": "stream",
          "name": "stderr",
          "text": [
            "100%|████████████████████████████████████████████████████████████████████████| 198.0/198.0 [00:10<00:00, 18.87seconds/s]\n",
            "100%|████████████████████████████████████████████████████████████████████████| 198.0/198.0 [00:10<00:00, 18.26seconds/s]\n",
            "100%|████████████████████████████████████████████████████████████████████████| 198.0/198.0 [00:10<00:00, 18.34seconds/s]\n",
            "100%|████████████████████████████████████████████████████████████████████████| 198.0/198.0 [00:10<00:00, 19.12seconds/s]\n"
          ]
        },
        {
          "output_type": "stream",
          "name": "stdout",
          "text": [
            "time: 2min 38s (started: 2021-11-15 12:49:07 +00:00)\n"
          ]
        }
      ]
    },
    {
      "cell_type": "code",
      "metadata": {
        "id": "v__3gMJawTD0"
      },
      "source": [
        "# This is manual upload and download :)\n",
        "from_upload()\n",
        "!zip -r separated.zip separated\n",
        "files.download('./separated.zip')"
      ],
      "execution_count": null,
      "outputs": []
    },
    {
      "cell_type": "code",
      "metadata": {
        "id": "BK8BRrXdzhvH"
      },
      "source": [
        ""
      ],
      "execution_count": null,
      "outputs": []
    }
  ]
}